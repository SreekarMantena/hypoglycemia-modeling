{
  "nbformat": 4,
  "nbformat_minor": 0,
  "metadata": {
    "colab": {
      "name": "FINAL Manuscript Data Extraction",
      "provenance": [],
      "collapsed_sections": [],
      "machine_shape": "hm"
    },
    "kernelspec": {
      "display_name": "Python 3",
      "name": "python3"
    }
  },
  "cells": [
    {
      "cell_type": "markdown",
      "metadata": {
        "id": "YWuxTEUmbx_s"
      },
      "source": [
        "Importing Packages and Establish Authentication for eICU Database"
      ]
    },
    {
      "cell_type": "code",
      "metadata": {
        "colab": {
          "base_uri": "https://localhost:8080/"
        },
        "id": "3TF9Xa98weJ_",
        "outputId": "c976c16d-0c87-4fd9-e33c-9e411c18f47c"
      },
      "source": [
        "from itertools import combinations\n",
        "from itertools import permutations\n",
        "import pandas as pd\n",
        "import numpy as np\n",
        "import matplotlib.pyplot as plt\n",
        "import seaborn as sns\n",
        "import os\n",
        "import pickle\n",
        "from sklearn.metrics import mean_squared_error,r2_score\n",
        "import matplotlib.colors as colors\n",
        "from scipy import stats\n",
        "from datetime import datetime\n",
        "import time\n",
        "import warnings\n",
        "import seaborn as sns\n",
        "import pickle as pkl\n",
        "from sklearn.impute import KNNImputer\n",
        "from IPython.display import display, HTML, Math, Latex\n",
        "from google.cloud import bigquery\n",
        "from google.colab import files, auth\n",
        "import itertools\n",
        "from functools import reduce\n",
        "from google.colab import drive\n",
        "drive.mount('/content/drive')"
      ],
      "execution_count": null,
      "outputs": [
        {
          "output_type": "stream",
          "text": [
            "Mounted at /content/drive\n"
          ],
          "name": "stdout"
        }
      ]
    },
    {
      "cell_type": "code",
      "metadata": {
        "id": "z6bdXoId8npr"
      },
      "source": [
        "name = '2h-pred-final'\n",
        "import datetime as dt\n",
        "import os\n",
        "ts_now = dt.datetime.now()\n",
        "date = str(ts_now.day) + \".\" + str(ts_now.month)\n",
        "\n",
        "base_dir = '/content/drive/My Drive/Colab Notebooks/eICU_OGP/' + name + '/'\n",
        "data_dir = '/content/drive/My Drive/Colab Notebooks/Data_ALL_Extracted/'\n",
        "\n",
        "if not os.path.exists(os.path.dirname(base_dir)):\n",
        "       os.makedirs(os.path.dirname(base_dir))\n",
        "       print(base_dir)"
      ],
      "execution_count": null,
      "outputs": []
    },
    {
      "cell_type": "code",
      "metadata": {
        "colab": {
          "base_uri": "https://localhost:8080/"
        },
        "id": "m4htJGZWu4js",
        "outputId": "3624fe6d-4936-44f2-a90c-bb5e3f365ffd"
      },
      "source": [
        "auth.authenticate_user()\n",
        "print('Authenticated')\n",
        "%load_ext google.colab.data_table\n",
        "\n",
        "# Function to submit query to BigQuery\n",
        "def q(query,projectid):\n",
        "    client = bigquery.Client(location=\"US\",project=projectid)\n",
        "    # Location must match that of the dataset(s) referenced in the query.\n",
        "    query_job = client.query(query,\n",
        "    location=\"US\",)  # API re\n",
        "    return query_job.to_dataframe()\n",
        "\n",
        "#Rounding (for heatmap categories)\n",
        "def myround(x, base):\n",
        "    return int(base * round(float(x)/base))\n",
        "\n",
        "def convert_to_datetime(df,time_cols):\n",
        "    for t_col in time_cols:\n",
        "        df[t_col] = pd.to_datetime(df[t_col])\n",
        "    \n",
        "    return(df)\n",
        "\n",
        "projectid = \"hst-953-2019\"\n",
        "client = bigquery.Client(location=\"US\",project=projectid)\n",
        "print(\"Client creating using default project: {}\".format(client.project))\n",
        "\n",
        "read_in = True"
      ],
      "execution_count": null,
      "outputs": [
        {
          "output_type": "stream",
          "text": [
            "Authenticated\n"
          ],
          "name": "stdout"
        }
      ]
    },
    {
      "cell_type": "markdown",
      "metadata": {
        "id": "yD8_bQJCX5wY"
      },
      "source": [
        "# Extracting Data from eICU-CRD"
      ]
    },
    {
      "cell_type": "markdown",
      "metadata": {
        "id": "RpK6G9r1b1_k"
      },
      "source": [
        "Extracting Insulin Events from Medication Table"
      ]
    },
    {
      "cell_type": "code",
      "metadata": {
        "id": "zS6vMvacvEm-"
      },
      "source": [
        "projectid = \"hst-953-2019\"\n",
        "\n",
        "#This query was taken from the eicu-code github repository\n",
        "query=\"\"\"\n",
        "-- ------------------------------------------------------------------\n",
        "-- Title: Extraction of insulin events.\n",
        "-- Description: This scripts extracts all the boluses of insulin from \n",
        "--  the eICU-CRD. This query also distinguish the adminsitration routes: \n",
        "--  infusion, bolus pushes and bolus inyections (subcutaneous).\n",
        "-- ------------------------------------------------------------------\n",
        "\n",
        "-- Extract the key codes associated to insulin\n",
        "WITH q1 AS(\n",
        "SELECT *\n",
        "FROM `physionet-data.eicu_crd.medication`\n",
        "WHERE\n",
        "  drughiclseqno IN(2854, -- NOVOLOG\n",
        "    18084, -- HUMALOG\n",
        "    768,   -- REGULAR\n",
        "    11528, -- LISPRO\n",
        "    20769, -- NOVOLOG\n",
        "    13633, -- HUMALOG\n",
        "    35487) -- ASPART\n",
        "-- not cancelled    \n",
        "AND drugordercancelled = 'No'\n",
        "-- only non-zero dosages\n",
        "AND dosage IS NOT null\n",
        "-- insulin dosage is in UNITS\n",
        "AND UPPER(dosage) LIKE '%UNIT%'\n",
        "-- must have a start time\n",
        "AND drugstartoffset is not null\n",
        "),\n",
        "\n",
        "-- Extract only drug names that contains the following identifiers\n",
        "q2 AS(SELECT q1.medicationid, q1.patientunitstayid, q1.drugstartoffset, q1.drugivadmixture,\n",
        "q1.drugname, q1.dosage, q1.routeadmin, q1.frequency, q1.loadingdose, q1.drugstopoffset,\n",
        "q1.drugorderoffset\n",
        "FROM q1\n",
        "WHERE UPPER(q1.drugname) LIKE '%INSULIN%'\n",
        "  OR UPPER(q1.drugname) LIKE '%HUMALOG%'\n",
        "  OR UPPER(q1.drugname) LIKE '%NOVOLOG%'\n",
        "  OR UPPER(q1.drugname) LIKE '%REGULAR%'\n",
        "  OR UPPER(q1.drugname) LIKE '%LISPRO%'\n",
        "  OR UPPER(q1.drugname) LIKE '%NOVOLOG%'\n",
        "  OR UPPER(q1.drugname) LIKE '%ASPART%'),\n",
        "  WHERE q1.drugstartoffset < 120\n",
        "q3 AS(SELECT q2.patientunitstayid, q2.medicationid,\n",
        "-- Identify boluses and infusions\n",
        "(CASE\n",
        "  WHEN UPPER(q2.routeadmin) LIKE '%SUB%' THEN 'BOLUS_INYECTION'\n",
        "  WHEN UPPER(q2.routeadmin) LIKE 'SQ' THEN 'BOLUS_INYECTION'\n",
        "  WHEN UPPER(q2.routeadmin) LIKE 'SC' THEN 'BOLUS_INYECTION'\n",
        "  WHEN UPPER(q2.routeadmin) LIKE 'IVPB' THEN 'BOLUS_PUSH'\n",
        "  WHEN UPPER(q2.routeadmin) LIKE 'IV PUSH' THEN 'BOLUS_PUSH'\n",
        "  WHEN UPPER(q2.routeadmin) LIKE 'IV' THEN 'INTRAVENOUS'\n",
        "  WHEN UPPER(q2.routeadmin) LIKE '%INTRA%' THEN 'INTRAVENOUS'\n",
        "  WHEN UPPER(q2.routeadmin) LIKE '%CENTRAL%' THEN 'INTRAVENOUS'\n",
        "  WHEN UPPER(q2.routeadmin) LIKE '%PERI%' THEN 'INTRAVENOUS'\n",
        " ELSE null END) AS InsulinAdmin,\n",
        "\n",
        "-- Colum for insulin drug names\n",
        "UPPER(q2.drugname) AS InsulinName,\n",
        "-- Column that contains dose of insulin\n",
        "UPPER(q2.dosage) AS InsulinDose,\n",
        "-- due to issue in ETL, times of 0 should likely be null\n",
        "(CASE WHEN q2.drugorderoffset = 0 THEN null ELSE q2.drugorderoffset END) AS drugorderoffset,\n",
        "(CASE WHEN q2.drugstartoffset = 0 THEN null ELSE q2.drugstartoffset END) AS drugstartoffset,\n",
        "(CASE WHEN q2.drugstopoffset = 0 THEN null ELSE q2.drugstopoffset END) AS drugstopoffset,\n",
        "q2.drugivadmixture,\n",
        "-- Frequency of insulin admnistration\n",
        "UPPER(q2.frequency) AS InsulinFrequency,\n",
        "FROM q2)\n",
        "\n",
        "SELECT * FROM q3\n",
        "\"\"\"\n",
        "\n",
        "if read_in:\n",
        "  ins = pd.read_pickle(data_dir + 'eICU_insulin.pkl')\n",
        "else:\n",
        "  ins = q(query,projectid)\n",
        "  ins.to_pickle(data_dir + 'eICU_insulin.pkl')"
      ],
      "execution_count": null,
      "outputs": []
    },
    {
      "cell_type": "markdown",
      "metadata": {
        "id": "xu6vSwXAcG2_"
      },
      "source": [
        "Extracting All Lab Values"
      ]
    },
    {
      "cell_type": "code",
      "metadata": {
        "id": "b4xS7TzsvY1_"
      },
      "source": [
        "#Extracting all glucose values\n",
        "labq = \"\"\"\n",
        "select *, \n",
        "FROM `physionet-data.eicu_crd.lab`\n",
        "WHERE (labname = 'glucose' OR labname = 'bedside glucose' )\n",
        "order by labresultoffset\n",
        "\"\"\"\n",
        "\n",
        "if read_in:\n",
        "  glu = pd.read_pickle(data_dir + 'eICU_glucose.pkl')\n",
        "else:\n",
        "  glu = q(labq, projectid)\n",
        "  glu['fingerstick'] = glu['labname'] == 'bedside glucose'\n",
        "\n",
        "  #Remove the patients which have less than 3 glucose values\n",
        "  glu = glu.groupby('patientunitstayid').filter(lambda x : len(x)>3)\n",
        "  glu.to_pickle(data_dir + 'eICU_glucose.pkl')"
      ],
      "execution_count": null,
      "outputs": []
    },
    {
      "cell_type": "code",
      "metadata": {
        "id": "S0DMfdrX6zp4"
      },
      "source": [
        "all_pts = list(glu['patientunitstayid'].unique())"
      ],
      "execution_count": null,
      "outputs": []
    },
    {
      "cell_type": "markdown",
      "metadata": {
        "id": "alwKMUwS4ooS"
      },
      "source": [
        "Extracting Patient Demographics"
      ]
    },
    {
      "cell_type": "code",
      "metadata": {
        "id": "h598Jbor5bxm"
      },
      "source": [
        "#Extracting patient demographic variables\n",
        "patientq = \"\"\"\n",
        "select patientunitstayid, admissionWeight, admissionheight, ethnicity, hospitalid, age, gender, uniquepid, unitVisitNumber\n",
        "FROM `physionet-data.eicu_crd.patient`\n",
        "order by patientunitstayid\n",
        "\"\"\"\n",
        "\n",
        "if read_in:\n",
        "  patient = pd.read_pickle(data_dir + 'eICU_patient.pkl')\n",
        "else:\n",
        "  patient = q(patientq, projectid)\n",
        "  for race in ['Caucasian', 'African American', 'Hispanic', 'Asian']:\n",
        "    patient[race] = (patient.ethnicity == race).astype(int)\n",
        "  patient['age'] = patient.age.replace('> 89', 90)\n",
        "  patient['BMI'] = patient.admissionWeight.to_numpy()/np.square(patient.admissionheight.to_numpy()/100)\n",
        "  patient.to_pickle(data_dir + 'eICU_patient.pkl')"
      ],
      "execution_count": null,
      "outputs": []
    },
    {
      "cell_type": "code",
      "metadata": {
        "id": "aoZVMSzmi6O1"
      },
      "source": [
        "#Extracting covariates diabetes and hepatic failure\n",
        "apachpredeq = \"\"\"\n",
        "select patientunitstayid, diabetes, hepaticFailure\n",
        "FROM `physionet-data.eicu_crd.apachepredvar`\n",
        "\"\"\"\n",
        "\n",
        "if read_in:\n",
        "  apached_df = pd.read_pickle(data_dir + 'eICU_apached.pkl')\n",
        "else:\n",
        "  apached_df = q(apachpredeq, projectid)\n",
        "  apached_df.to_pickle(data_dir + 'eICU_apached.pkl')"
      ],
      "execution_count": null,
      "outputs": []
    },
    {
      "cell_type": "code",
      "metadata": {
        "id": "qOKpw_YkfP1q"
      },
      "source": [
        "#Extracting GCS score\n",
        "gcsq = \"\"\"\n",
        "SELECT patientunitstayid, avg(gcs) as gcs_avg\n",
        "\n",
        "FROM `physionet-data.eicu_crd_derived.pivoted_score` \n",
        "GROUP BY patientunitstayid\n",
        "\"\"\"\n",
        "\n",
        "if read_in:\n",
        "  gcs_df = pd.read_pickle(data_dir + 'eICU_gcs.pkl')\n",
        "else:\n",
        "  gcs_df = q(gcsq, projectid)\n",
        "  gcs_df.to_pickle(data_dir + 'eICU_gcs.pkl')"
      ],
      "execution_count": null,
      "outputs": []
    },
    {
      "cell_type": "code",
      "metadata": {
        "id": "NCh_JFSKaf6o"
      },
      "source": [
        "#Extracting other chronic conditions from diagnoses\n",
        "kidneyq = \"\"\"\n",
        "\n",
        "WITH tb AS(\n",
        "SELECT DISTINCT(patientunitstayid),\n",
        "  \n",
        "  CASE \n",
        "    WHEN UPPER(diagnosisstring) LIKE \"%KIDNEY%\" and UPPER(diagnosisstring) LIKE \"%CHRONIC%\" THEN 1 ELSE 0\n",
        "  END AS ckd,\n",
        "  \n",
        "  CASE \n",
        "    WHEN UPPER(diagnosisstring) LIKE \"%KIDNEY%\" and UPPER(diagnosisstring) LIKE \"%ACUTE%\"  THEN 1 ELSE 0\n",
        "  END AS aki,\n",
        "  \n",
        "CASE \n",
        "    WHEN UPPER(diagnosisstring) LIKE \"%KIDNEY%\" THEN 1 ELSE 0\n",
        "  END AS kidneyDisease,\n",
        "  \n",
        "  CASE \n",
        "    WHEN UPPER(diagnosisstring) LIKE \"%LIVER%\"  THEN 1 ELSE 0\n",
        "  END AS liverDisease,\n",
        "  \n",
        "  CASE \n",
        "    WHEN UPPER(diagnosisstring) LIKE \"%CONGESTIVE HEART FAILURE%\"  THEN 1 ELSE 0\n",
        "  END AS congestiveHeartFailure,\n",
        "  \n",
        "  \n",
        "  CASE \n",
        "    WHEN UPPER(diagnosisstring) LIKE \"%HYPERTENSION%\"  THEN 1 ELSE 0\n",
        "  END AS hypertension,\n",
        "  \n",
        "  CASE \n",
        "    WHEN UPPER(diagnosisstring) LIKE \"%PANCREATITIS%\"    THEN 1 ELSE 0\n",
        "  END AS pancreatitis,\n",
        "  \n",
        "  CASE \n",
        "    WHEN UPPER(diagnosisstring) LIKE \"%PANCREA%\" AND UPPER(diagnosisstring) NOT LIKE  \"%PANCREATITIS%\"  THEN 1 ELSE 0\n",
        "  END AS pancreasDisease,\n",
        "\n",
        "  CASE \n",
        "    WHEN UPPER(diagnosisstring) LIKE \"%SEPSIS%\" THEN 1 ELSE 0\n",
        "  END AS sepsis\n",
        "\n",
        "  \n",
        "  \n",
        "FROM `physionet-data.eicu_crd.diagnosis`\n",
        "order by patientunitstayid)\n",
        "\n",
        "SELECT patientunitstayid, MAX(ckd) as ckd, MAX(aki) as aki, MAX(kidneyDisease) as kidneyDisease, MAX(liverDisease) as liverDisease, MAX(hypertension) as hypertension, MAX(congestiveHeartFailure) as congestiveHeartFailure, MAX(pancreasDisease) as pancreasDisease, MAX(pancreatitis) as pancreatitis, MAX(sepsis) as sepsis\n",
        "\n",
        "FROM tb\n",
        "group by patientunitstayid\n",
        "order by patientunitstayid\n",
        "\"\"\"\n",
        "\n",
        "if read_in:\n",
        "  kidney_df = pd.read_pickle(data_dir + 'kidney.pkl')\n",
        "\n",
        "else:\n",
        "  kidney_df = q(kidneyq,projectid)\n",
        "  kidney_df.to_pickle(data_dir + 'kidney.pkl')"
      ],
      "execution_count": null,
      "outputs": []
    },
    {
      "cell_type": "code",
      "metadata": {
        "id": "lc3ZKu8NV11o"
      },
      "source": [
        "#Extracting drugs from medication table\n",
        "drugsq = \"\"\"\n",
        "WITH tb AS(\n",
        "SELECT DISTINCT(patientunitstayid),\n",
        "  \n",
        "  CASE \n",
        "    WHEN UPPER(drugname) LIKE '%METFORMIN%' AND drugstartoffset < 1440 THEN 1 ELSE 0\n",
        "  END AS metformin,\n",
        "  \n",
        "  CASE \n",
        "    WHEN UPPER(drugname) LIKE '%MORPHINE%' OR UPPER(drugname) LIKE'%HYDROMORPHONE%' AND drugstartoffset < 1440 THEN 1 ELSE 0\n",
        "  END AS morphine,\n",
        "  \n",
        "  CASE \n",
        "    WHEN UPPER(drugname) LIKE '%PREDNISOLONE%' AND drugstartoffset < 1440 THEN 1 ELSE 0\n",
        "  END AS prednisolone,\n",
        "  \n",
        "  CASE \n",
        "    WHEN UPPER(drugname) LIKE '%DEXA%' AND drugstartoffset < 1440 THEN 1 ELSE 0\n",
        "  END AS dexamethasone,\n",
        "  \n",
        "  CASE \n",
        "    WHEN UPPER(drugname) LIKE '%METOPROLOL%' AND drugstartoffset < 1440 THEN 1 ELSE 0\n",
        "  END AS metoprolol,\n",
        "  \n",
        "  #Changed from just being dextrose\n",
        "  CASE \n",
        "    WHEN drugname LIKE '%DEXTROSE 50%-WATER%' \n",
        "    OR drugname LIKE '%DEXTROSE 50 % IV SOLN%' \n",
        "    OR drugname LIKE '%dextrose 50 % inj%' \n",
        "    OR drugname LIKE '%DEXTROSE 50% VIAL%' \n",
        "    \n",
        "    OR UPPER(drugname) LIKE '%DEXTROSE 50%%' \n",
        "    OR drugname LIKE '%DEXTROSE (DIABETIC USE) 40 %%' \n",
        "    \n",
        "    AND drugstartoffset > -120 AND drugstartoffset < 120 THEN 1 ELSE 0\n",
        "  END AS dextrose,\n",
        "  \n",
        "FROM `physionet-data.eicu_crd.medication`\n",
        "order by patientunitstayid)\n",
        "\n",
        "SELECT patientunitstayid, MAX(metformin) as metformin, MAX(morphine) as morphine, MAX(prednisolone) as prednisolone, MAX(dexamethasone) as dexamethasone, MAX(metoprolol) as metoprolol, MAX(dextrose) as dextrose\n",
        "\n",
        "FROM tb\n",
        "group by patientunitstayid\n",
        "order by patientunitstayid\n",
        "\"\"\"\n",
        "\n",
        "if read_in:\n",
        "  drugs_df = pd.read_pickle(data_dir + 'drugs_addl.pkl')\n",
        "else:\n",
        "  drugs_df = q(drugsq,projectid)\n",
        "  drugs_df.to_pickle(data_dir + 'drugs_addl.pkl')"
      ],
      "execution_count": null,
      "outputs": []
    },
    {
      "cell_type": "code",
      "metadata": {
        "id": "-iSkFSYCX7lz"
      },
      "source": [
        "#Vasopressors extraction\n",
        "vasoq = \"\"\"\n",
        "SELECT patientunitstayid, MAX(norepinephrine) as norepinephrine,  MAX(epinephrine) as epinephrine,\tMAX(dopamine)\tas dopamine,MAX(phenylephrine)\tas phenylephrine,\tMAX(vasopressin)\tas vasopressin,\n",
        "FROM `physionet-data.eicu_crd_derived.pivoted_med`\n",
        "WHERE drugstartoffset < 120\n",
        "group by patientunitstayid\n",
        "\"\"\"\n",
        "\n",
        "if read_in:\n",
        "  vaso = pd.read_pickle(data_dir + 'vaso.pkl')\n",
        "else:\n",
        "  vaso = q(vasoq,projectid)\n",
        "  vaso.to_pickle(data_dir + 'vaso.pkl')"
      ],
      "execution_count": null,
      "outputs": []
    },
    {
      "cell_type": "code",
      "metadata": {
        "id": "lPLpgfXDkEN8"
      },
      "source": [
        "#Merging all predictor variables\n",
        "covars_df = reduce(lambda x, y: pd.merge(x, y, on = 'patientunitstayid', how = 'outer'), [patient, apache_df, gcs_df, apached_df, d3_df, dka, drugs_df, kidney_df, vaso])\n",
        "covars_df = covars_df.drop(['actualicumortality', 'actualiculos', 'ethnicity', 'unitVisitNumber', 'hepaticFailure'], axis = 1)\n",
        "covars_df = covars_df.drop_duplicates()\n",
        "covars_df.to_pickle(base_dir + 'covars_df.pkl')\n",
        "covars_df"
      ],
      "execution_count": null,
      "outputs": []
    },
    {
      "cell_type": "markdown",
      "metadata": {
        "id": "o1NiN8bhcgAy"
      },
      "source": [
        "Extracting eICU Labs and Vitals:"
      ]
    },
    {
      "cell_type": "code",
      "metadata": {
        "id": "ODimu4_lHtPS"
      },
      "source": [
        "#All labs extraction\n",
        "labquery = \"\"\"\n",
        "SELECT p.uniquepid, p.patienthealthsystemstayid, p.patientunitstayid, le.labname, le.labresultoffset\n",
        "\n",
        "  -- add in some sanity checks on the values; same checks from original MIMIC version\n",
        "  -- the where clause below requires all labresult to be > 0, so these are only upper limit checks\n",
        "  , CASE\n",
        "     WHEN labname = 'albumin' and le.labresult >    10 THEN null -- g/dL 'ALBUMIN'\n",
        "     WHEN labname = 'anion gap' and le.labresult > 10000 THEN null -- mEq/L 'ANION GAP'\n",
        "     WHEN labname = '-bands' and le.labresult <     0 THEN null -- immature band forms, %\n",
        "     WHEN labname = '-bands' and le.labresult >   100 THEN null -- immature band forms, %\n",
        "     WHEN labname = 'bicarbonate' and le.labresult > 10000 THEN null -- mEq/L 'BICARBONATE'\n",
        "     WHEN labname = 'HCO3' and le.labresult > 10000 THEN null -- mEq/L 'BICARBONATE'\n",
        "     WHEN labname = 'bilirubin' and le.labresult >   150 THEN null -- mg/dL 'BILIRUBIN'\n",
        "     WHEN labname = 'chloride' and le.labresult > 10000 THEN null -- mEq/L 'CHLORIDE'\n",
        "     WHEN labname = 'creatinine' and le.labresult >   150 THEN null -- mg/dL 'CREATININE'\n",
        "     WHEN labname = 'glucose' and le.labresult > 10000 THEN null -- mg/dL 'GLUCOSE'\n",
        "     WHEN labname = 'Hct' and le.labresult >   100 THEN null -- % 'HEMATOCRIT'\n",
        "     WHEN labname = 'Hgb' and le.labresult >    50 THEN null -- g/dL 'HEMOGLOBIN'\n",
        "     WHEN labname = 'lactate' and le.labresult >    50 THEN null -- mmol/L 'LACTATE'\n",
        "     WHEN labname = 'platelets x 1000' and le.labresult > 10000 THEN null -- K/uL 'PLATELET'\n",
        "     WHEN labname = 'potassium' and le.labresult >    30 THEN null -- mEq/L 'POTASSIUM'\n",
        "     WHEN labname = 'PTT' and le.labresult >   150 THEN null -- sec 'PTT'\n",
        "     WHEN labname = 'PT - INR' and le.labresult >    50 THEN null -- 'INR'\n",
        "     WHEN labname = 'PT' and le.labresult >   150 THEN null -- sec 'PT'\n",
        "     WHEN labname = 'sodium' and le.labresult >   200 THEN null -- mEq/L == mmol/L 'SODIUM'\n",
        "     WHEN labname = 'BUN' and le.labresult >   300 THEN null -- 'BUN'\n",
        "     WHEN labname = 'WBC x 1000' and le.labresult >  1000 THEN null -- 'WBC'\n",
        "     WHEN labname = 'pH' and le.labresult < 0 THEN null -- 'pH'\n",
        "     WHEN labname = 'ALT (SGPT)' and le.labresult < 0 THEN null -- 'WBC'\n",
        "     WHEN labname = 'AST (SGOT)' and le.labresult < 0  THEN null -- 'WBC'\n",
        "     WHEN labname = 'CRP' and le.labresult < 0  THEN null -- 'WBC'\n",
        "   ELSE le.labresult\n",
        "   END AS labresult\n",
        "\n",
        "  FROM `physionet-data.eicu_crd.patient` p \n",
        "\n",
        "  LEFT JOIN `physionet-data.eicu_crd.lab` le\n",
        "    ON p.patientunitstayid = le.patientunitstayid\n",
        "    AND le.labname in\n",
        "    (\n",
        "    \t'anion gap',\n",
        "    \t'albumin',\n",
        "    \t'-bands',\n",
        "    \t'bicarbonate',\n",
        "    \t'HCO3',\n",
        "    \t'total bilirubin',\n",
        "    \t'creatinine',\n",
        "    \t'chloride',\n",
        "    \t'glucose',\n",
        "    \t'Hct',\n",
        "    \t'Hgb',\n",
        "    \t'lactate',\n",
        "    \t'platelets x 1000',\n",
        "    \t'potassium',\n",
        "    \t'PTT',\n",
        "    \t'PT - INR',\n",
        "    \t'PT',\n",
        "    \t'sodium',\n",
        "    \t'BUN',\n",
        "    \t'WBC x 1000',\n",
        "      'pH',\n",
        "      'ALT (SGPT)',\n",
        "      'AST (SGOT)',\n",
        "      'CRP',\n",
        "      'triglycerides',\n",
        "      'total cholestrol',\n",
        "      'WBC x 1000',\n",
        "      'RDW',\n",
        "      'total protein',\n",
        "      'folate',\n",
        "      'LDH',\n",
        "      'ferritin'\n",
        "    )\n",
        "    AND labresult IS NOT null AND labresult > 0 -- lab values cannot be 0 and cannot be negative\n",
        "\"\"\"\n",
        "\n",
        "if read_in:\n",
        "  labdata = pd.read_pickle(data_dir + 'eICU_labdata.pkl')\n",
        "else:\n",
        "  labdata = q(labquery, projectid)\n",
        "  labdata.to_pickle(data_dir + 'eICU_labdata.pkl')"
      ],
      "execution_count": null,
      "outputs": []
    },
    {
      "cell_type": "code",
      "metadata": {
        "id": "WQvGmG_zcIu_"
      },
      "source": [
        "#Vitals extraction\n",
        "vitalquery = \"\"\"\n",
        "(with nc as\n",
        "  (\n",
        "    select\n",
        "    patientunitstayid\n",
        "    , nursingchartoffset\n",
        "    , nursingchartentryoffset\n",
        "    , case\n",
        "    when nursingchartcelltypevallabel = 'Heart Rate'\n",
        "    and nursingchartcelltypevalname = 'Heart Rate'\n",
        "    and (REGEXP_CONTAINS(nursingchartvalue, '^[-]?[0-9]+[.]?[0-9]*$'))\n",
        "    and nursingchartvalue not in ('-','.')\n",
        "    then cast(nursingchartvalue as FLOAT64\t)\n",
        "    else null end\n",
        "    as heartrate\n",
        "    , case\n",
        "    when nursingchartcelltypevallabel = 'Respiratory Rate'\n",
        "    and nursingchartcelltypevalname = 'Respiratory Rate'\n",
        "    and (REGEXP_CONTAINS(nursingchartvalue, '^[-]?[0-9]+[.]?[0-9]*$'))\n",
        "    and nursingchartvalue not in ('-','.')\n",
        "    then cast(nursingchartvalue as FLOAT64\t)\n",
        "    else null end\n",
        "    as RespiratoryRate\n",
        "    , case\n",
        "    when nursingchartcelltypevallabel = 'O2 Saturation'\n",
        "    and nursingchartcelltypevalname = 'O2 Saturation'\n",
        "    and (REGEXP_CONTAINS(nursingchartvalue, '^[-]?[0-9]+[.]?[0-9]*$'))\n",
        "    and nursingchartvalue not in ('-','.')\n",
        "    then cast(nursingchartvalue as FLOAT64\t)\n",
        "    else null end\n",
        "    as o2saturation\n",
        "    , case\n",
        "    when nursingchartcelltypevallabel = 'Non-Invasive BP'\n",
        "    and nursingchartcelltypevalname = 'Non-Invasive BP Systolic'\n",
        "    and (REGEXP_CONTAINS(nursingchartvalue, '^[-]?[0-9]+[.]?[0-9]*$'))\n",
        "    and nursingchartvalue not in ('-','.')\n",
        "    then cast(nursingchartvalue as FLOAT64\t)\n",
        "    else null end\n",
        "    as nibp_systolic\n",
        "    , case\n",
        "    when nursingchartcelltypevallabel = 'Non-Invasive BP'\n",
        "    and nursingchartcelltypevalname = 'Non-Invasive BP Diastolic'\n",
        "    and (REGEXP_CONTAINS(nursingchartvalue, '^[-]?[0-9]+[.]?[0-9]*$'))\n",
        "    and nursingchartvalue not in ('-','.')\n",
        "    then cast(nursingchartvalue as FLOAT64\t)\n",
        "    else null end\n",
        "    as nibp_diastolic\n",
        "    , case\n",
        "    when nursingchartcelltypevallabel = 'Non-Invasive BP'\n",
        "    and nursingchartcelltypevalname = 'Non-Invasive BP Mean'\n",
        "    and (REGEXP_CONTAINS(nursingchartvalue, '^[-]?[0-9]+[.]?[0-9]*$'))\n",
        "    and nursingchartvalue not in ('-','.')\n",
        "    then cast(nursingchartvalue as FLOAT64\t)\n",
        "    else null end\n",
        "    as nibp_mean\n",
        "    , case\n",
        "    when nursingchartcelltypevallabel = 'Temperature'\n",
        "    and nursingchartcelltypevalname = 'Temperature (C)'\n",
        "    and (REGEXP_CONTAINS(nursingchartvalue, '^[-]?[0-9]+[.]?[0-9]*$'))\n",
        "    and nursingchartvalue not in ('-','.')\n",
        "    then cast(nursingchartvalue as FLOAT64\t)\n",
        "    else null end\n",
        "    as temperature\n",
        "    , case\n",
        "    when nursingchartcelltypevallabel = 'Temperature'\n",
        "    and nursingchartcelltypevalname = 'Temperature Location'\n",
        "    then nursingchartvalue\n",
        "    else null end\n",
        "    as TemperatureLocation\n",
        "    , case\n",
        "    when nursingchartcelltypevallabel = 'Invasive BP'\n",
        "    and nursingchartcelltypevalname = 'Invasive BP Systolic'\n",
        "    and (REGEXP_CONTAINS(nursingchartvalue, '^[-]?[0-9]+[.]?[0-9]*$'))\n",
        "    and nursingchartvalue not in ('-','.')\n",
        "    then cast(nursingchartvalue as FLOAT64\t)\n",
        "    else null end\n",
        "    as ibp_systolic\n",
        "    , case\n",
        "    when nursingchartcelltypevallabel = 'Invasive BP'\n",
        "    and nursingchartcelltypevalname = 'Invasive BP Diastolic'\n",
        "    and (REGEXP_CONTAINS(nursingchartvalue, '^[-]?[0-9]+[.]?[0-9]*$'))\n",
        "    and nursingchartvalue not in ('-','.')\n",
        "    then cast(nursingchartvalue as FLOAT64\t)\n",
        "    else null end\n",
        "    as ibp_diastolic\n",
        "    , case\n",
        "    when nursingchartcelltypevallabel = 'Invasive BP'\n",
        "    and nursingchartcelltypevalname = 'Invasive BP Mean'\n",
        "    and (REGEXP_CONTAINS(nursingchartvalue, '^[-]?[0-9]+[.]?[0-9]*$'))\n",
        "    and nursingchartvalue not in ('-','.')\n",
        "    then cast(nursingchartvalue as FLOAT64\t)\n",
        "    -- other map fields\n",
        "    when nursingchartcelltypevallabel = 'MAP (mmHg)'\n",
        "    and nursingchartcelltypevalname = 'Value'\n",
        "    and (REGEXP_CONTAINS(nursingchartvalue, '^[-]?[0-9]+[.]?[0-9]*$'))\n",
        "    and nursingchartvalue not in ('-','.')\n",
        "    then cast(nursingchartvalue as FLOAT64\t)\n",
        "    when nursingchartcelltypevallabel = 'Arterial Line MAP (mmHg)'\n",
        "    and nursingchartcelltypevalname = 'Value'\n",
        "    and (REGEXP_CONTAINS(nursingchartvalue, '^[-]?[0-9]+[.]?[0-9]*$'))\n",
        "    and nursingchartvalue not in ('-','.')\n",
        "    then cast(nursingchartvalue as FLOAT64\t)\n",
        "    else null end\n",
        "    as ibp_mean\n",
        "    from `physionet-data.eicu_crd.nursecharting` nursecharting\n",
        "    -- speed up by only looking at a subset of charted data\n",
        "    where nursingchartcelltypecat in\n",
        "    (\n",
        "      'Vital Signs','Scores','Other Vital Signs and Infusions'\n",
        "    )\n",
        "  )\n",
        "  select\n",
        "  patientunitstayid\n",
        "  , nursingchartoffset as chartoffset\n",
        "  , nursingchartentryoffset as entryoffset\n",
        "  , avg(case when heartrate >= 25 and heartrate <= 225 then heartrate else null end) as heartrate\n",
        "  , avg(case when RespiratoryRate >= 0 and RespiratoryRate <= 60 then RespiratoryRate else null end) as RespiratoryRate\n",
        "  , avg(case when o2saturation >= 0 and o2saturation <= 100 then o2saturation else null end) as spo2\n",
        "  , avg(case when nibp_systolic >= 25 and nibp_systolic <= 250 then nibp_systolic else null end) as nibp_systolic\n",
        "  , avg(case when nibp_diastolic >= 1 and nibp_diastolic <= 200 then nibp_diastolic else null end) as nibp_diastolic\n",
        "  , avg(case when nibp_mean >= 1 and nibp_mean <= 250 then nibp_mean else null end) as nibp_mean\n",
        "  , avg(case when temperature >= 25 and temperature <= 46 then temperature else null end) as temperature\n",
        "  , max(temperaturelocation) as temperaturelocation\n",
        "  , avg(case when ibp_systolic >= 1 and ibp_systolic <= 300 then ibp_systolic else null end) as ibp_systolic\n",
        "  , avg(case when ibp_diastolic >= 1 and ibp_diastolic <= 200 then ibp_diastolic else null end) as ibp_diastolic\n",
        "  , avg(case when ibp_mean >= 1 and ibp_mean <= 250 then ibp_mean else null end) as ibp_mean\n",
        "  from nc\n",
        "  WHERE heartrate IS NOT NULL\n",
        "  OR RespiratoryRate IS NOT NULL\n",
        "  OR o2saturation IS NOT NULL\n",
        "  OR nibp_systolic IS NOT NULL\n",
        "  OR nibp_diastolic IS NOT NULL\n",
        "  OR nibp_mean IS NOT NULL\n",
        "  OR temperature IS NOT NULL\n",
        "  OR temperaturelocation IS NOT NULL\n",
        "  OR ibp_systolic IS NOT NULL\n",
        "  OR ibp_diastolic IS NOT NULL\n",
        "  OR ibp_mean IS NOT NULL\n",
        "  group by patientunitstayid, nursingchartoffset, nursingchartentryoffset\n",
        "  order by patientunitstayid, nursingchartoffset, nursingchartentryoffset)\n",
        "\"\"\"\n",
        "\n",
        "if read_in:\n",
        "  vitaldata = pd.read_pickle(data_dir + 'eICU_vitaldata.pkl')\n",
        "else:\n",
        "  vitaldata = q(vitalquery,projectid)\n",
        "  vitaldata.to_pickle(data_dir + 'eICU_vitaldata.pkl')\n"
      ],
      "execution_count": null,
      "outputs": []
    },
    {
      "cell_type": "markdown",
      "metadata": {
        "id": "373ukcXw48mQ"
      },
      "source": [
        "# Processing Data"
      ]
    },
    {
      "cell_type": "code",
      "metadata": {
        "id": "2BIINXQMjNPL"
      },
      "source": [
        "final_pts = glu.patientunitstayid.unique()"
      ],
      "execution_count": null,
      "outputs": []
    },
    {
      "cell_type": "code",
      "metadata": {
        "id": "kmPzQRXf0bX0"
      },
      "source": [
        "#Predictor variables all collected within first two hours\n",
        "ob_end = 2*60\n",
        "gap = 0 * 60\n",
        "pred_start = ob_end + gap"
      ],
      "execution_count": null,
      "outputs": []
    },
    {
      "cell_type": "code",
      "metadata": {
        "id": "TbUvj8lliIxQ"
      },
      "source": [
        "#Processing Labs and vitals\n",
        "labs_df = labdata[labdata['labresultoffset'] < ob_end].groupby(['patientunitstayid', 'labname']).mean()\n",
        "labs_df.reset_index(inplace=True)  \n",
        "labs_df = labs_df.pivot(index = 'patientunitstayid', columns = 'labname', values = 'labresult')\n",
        "\n",
        "vital_df = vitaldata[vitaldata['chartoffset'] < ob_end].groupby(['patientunitstayid']).mean().drop(['chartoffset', 'entryoffset'], axis = 1)"
      ],
      "execution_count": null,
      "outputs": []
    },
    {
      "cell_type": "code",
      "metadata": {
        "id": "FOWfaV3CVPD1"
      },
      "source": [
        ""
      ],
      "execution_count": null,
      "outputs": []
    },
    {
      "cell_type": "code",
      "metadata": {
        "id": "C6CBoiJuLfTw"
      },
      "source": [
        "#Merging values\n",
        "labs_vitals_df = pd.merge(labs_df, vital_df, on = 'patientunitstayid', how = 'inner')\n",
        "labs_vitals_glu = pd.merge(glu_hypo, labs_vitals_df, on = 'patientunitstayid', how = 'outer')\n",
        "\n",
        "#Identifying patients who had hypoglycemia in a previous patient visit\n",
        "multistay_pts = patient[patient['unitVisitNumber'] > 1].patientunitstayid.values\n",
        "min_glu = glu[['labresult', 'patientunitstayid']].groupby(by = 'patientunitstayid').min()\n",
        "multistay_pts = list(set(multistay_pts) & set(min_glu.index.values))\n",
        "prev_hypo = min_glu.loc[multistay_pts]['labresult'] < 72\n",
        "min_glu['prev_hypo'] = prev_hypo\n",
        "\n",
        "#Computing BGCV in first two hours and merging\n",
        "cv = lambda x: np.std(x, ddof=1) / np.mean(x) * 100 \n",
        "obs_glu = glu[glu['labresultoffset'] < ob_end]\n",
        "cv_df = obs_glu[['labresult', 'patientunitstayid']].groupby(by = 'patientunitstayid').apply(cv).drop('patientunitstayid', axis = 1).rename(columns = {'labresult': 'cv_glucose'})\n",
        "l_v_glu_prevvist = pd.merge(min_glu[['prev_hypo', 'patientunitstayid']], labs_vitals_glu, on = 'patientunitstayid', how = 'outer')\n",
        "event_df = pd.merge(covars_df, l_v_glu_prevvist, on = 'patientunitstayid', how = 'inner')\n",
        "event_df = pd.merge(cv_df, event_df, on = 'patientunitstayid', how = 'right')"
      ],
      "execution_count": null,
      "outputs": []
    },
    {
      "cell_type": "code",
      "metadata": {
        "id": "pNEA_mvRm5GR"
      },
      "source": [
        "#Hypoglycemic outcome, happening after prediction horizon\n",
        "outcome_glu = glu[glu['labresultoffset'] > pred_start]\n",
        "event_df = pd.merge(event_df, outcome_glu[['labresult', 'patientunitstayid']].groupby(by = 'patientunitstayid').min(), on = 'patientunitstayid', how = 'inner')\n",
        "event_df = pd.merge(event_df, insulin_df, on = 'patientunitstayid', how = 'outer')"
      ],
      "execution_count": null,
      "outputs": []
    },
    {
      "cell_type": "code",
      "metadata": {
        "id": "WAAAD4dEzhme"
      },
      "source": [
        "#Dropping patients with more than 10 missing variables and performign KNN imputation\n",
        "event_df = event_df.dropna(axis = 0, thresh = 20)\n",
        "event_df = KNNImputer(event_df)"
      ],
      "execution_count": null,
      "outputs": []
    },
    {
      "cell_type": "code",
      "metadata": {
        "id": "UHalDqUAnVv9"
      },
      "source": [
        "#Saving files\n",
        "event_df.to_pickle(base_dir + 'event_df.pkl')\n",
        "event_df.to_csv(base_dir + 'event_df_GCP.csv')"
      ],
      "execution_count": null,
      "outputs": []
    }
  ]
}